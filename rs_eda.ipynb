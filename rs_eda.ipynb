{
 "cells": [
  {
   "cell_type": "markdown",
   "metadata": {},
   "source": [
    "Now that we have scraped and cleaned the 2003 and 2020 lists from Rolling Stone, we will now start to compare and visualize trends from both lists"
   ]
  },
  {
   "cell_type": "code",
   "execution_count": 1,
   "metadata": {},
   "outputs": [],
   "source": [
    "#Importing Libraries\n",
    "import pandas as pd\n",
    "import numpy as np\n",
    "import matplotlib.pyplot as plt\n",
    "import seaborn as sns"
   ]
  },
  {
   "cell_type": "code",
   "execution_count": 2,
   "metadata": {},
   "outputs": [],
   "source": [
    "#Reading files\n",
    "list_2003 = pd.read_csv('list_top500_2003_clean.csv')\n",
    "list_2020 = pd.read_csv('list_top500_2020_clean.csv')"
   ]
  },
  {
   "cell_type": "markdown",
   "metadata": {},
   "source": [
    "# Who are the most common artists on each list?"
   ]
  },
  {
   "cell_type": "code",
   "execution_count": 3,
   "metadata": {},
   "outputs": [
    {
     "data": {
      "text/plain": [
       "The Beatles           10\n",
       "The Rolling Stones    10\n",
       "Bob Dylan             10\n",
       "Bruce Springsteen      8\n",
       "The Who                7\n",
       "U2                     5\n",
       "Radiohead              5\n",
       "Led Zeppelin           5\n",
       "Elton John             5\n",
       "David Bowie            5\n",
       "Name: Artist, dtype: int64"
      ]
     },
     "execution_count": 3,
     "metadata": {},
     "output_type": "execute_result"
    }
   ],
   "source": [
    "artists_2003 = list_2003.Artist.value_counts()\n",
    "artists_2003.head(10)"
   ]
  },
  {
   "cell_type": "code",
   "execution_count": 4,
   "metadata": {},
   "outputs": [
    {
     "data": {
      "text/plain": [
       "The Beatles               9\n",
       "Bob Dylan                 7\n",
       "Neil Young                6\n",
       "The Rolling Stones        6\n",
       "Kanye West                6\n",
       "Led Zeppelin              5\n",
       "Bruce Springsteen         5\n",
       "David Bowie               5\n",
       "The Who                   4\n",
       "The Velvet Underground    4\n",
       "Name: Artist, dtype: int64"
      ]
     },
     "execution_count": 4,
     "metadata": {},
     "output_type": "execute_result"
    }
   ],
   "source": [
    "artists_2020 = list_2020.Artist.value_counts()\n",
    "artists_2020.head(10)"
   ]
  },
  {
   "cell_type": "markdown",
   "metadata": {},
   "source": [
    "Both lists have a large abundance of classic rock artists (especially The Beatles, Bob Dylan, The Rolling Stones etc..), however the 2020 list features a good amount of Kanye West albums. This could imply an increasing number of current albums, albums from Hip Hop, etc...)."
   ]
  },
  {
   "cell_type": "markdown",
   "metadata": {},
   "source": [
    "# How are decades  distributed?"
   ]
  },
  {
   "cell_type": "code",
   "execution_count": 5,
   "metadata": {},
   "outputs": [],
   "source": [
    "#Want to show a barplot in chronological order\n",
    "decade_counts_2003 = list_2003['Decade'].value_counts().reindex(index = ['1950s', '1960s', '1970s', '1980s', '1990s', '2000s', '2010s'])\n",
    "decade_counts_2020 = list_2020['Decade'].value_counts().reindex(index = ['1950s', '1960s', '1970s', '1980s', '1990s', '2000s', '2010s'])"
   ]
  },
  {
   "cell_type": "code",
   "execution_count": 6,
   "metadata": {},
   "outputs": [
    {
     "data": {
      "text/plain": [
       "Text(0.5, 0, 'Decade')"
      ]
     },
     "execution_count": 6,
     "metadata": {},
     "output_type": "execute_result"
    },
    {
     "data": {
      "image/png": "[encoded data removed]",
      "text/plain": [
       "<Figure size 432x288 with 1 Axes>"
      ]
     },
     "metadata": {
      "needs_background": "light"
     },
     "output_type": "display_data"
    }
   ],
   "source": [
    "decade_counts_2003.plot(kind=\"bar\")\n",
    "plt.title('Distribution of Decades for RS Top 500 Albums List- 2003')\n",
    "plt.xlabel('Decade')"
   ]
  },
  {
   "cell_type": "code",
   "execution_count": 7,
   "metadata": {},
   "outputs": [
    {
     "data": {
      "text/plain": [
       "Text(0.5, 0, 'Decade')"
      ]
     },
     "execution_count": 7,
     "metadata": {},
     "output_type": "execute_result"
    },
    {
     "data": {
      "image/png": "[encoded data removed]",
      "text/plain": [
       "<Figure size 432x288 with 1 Axes>"
      ]
     },
     "metadata": {
      "needs_background": "light"
     },
     "output_type": "display_data"
    }
   ],
   "source": [
    "decade_counts_2020.plot(kind=\"bar\")\n",
    "plt.title('Distribution of Decades for RS Top 500 Albums List- 2020')\n",
    "plt.xlabel('Decade')"
   ]
  },
  {
   "cell_type": "markdown",
   "metadata": {},
   "source": [
    "After looking at the distribution of decades for each list, there is definitely a bias for older albums on the 2003 list, while there are a greater amount of current albums in the 2020 list. This is sensible, since there have been an abundance of great albums released in the 17 year span from the first list to the most recent list."
   ]
  },
  {
   "cell_type": "markdown",
   "metadata": {},
   "source": [
    "# Which albums are the biggest risers and fallers?"
   ]
  },
  {
   "cell_type": "code",
   "execution_count": 8,
   "metadata": {},
   "outputs": [],
   "source": [
    "#I noticed a parsing error for apostrophes. Some album titles/artists had ('), and others had (’)(option+shift+]).\n",
    "#This code will fix these errors to make the apostrophes consistent.\n",
    "list_2003 = list_2003.replace(\"\\’\", \"'\", regex=True)\n",
    "list_2020 = list_2020.replace(\"\\’\", \"'\", regex=True)"
   ]
  },
  {
   "cell_type": "code",
   "execution_count": 9,
   "metadata": {},
   "outputs": [],
   "source": [
    "#Merging Lists together by Album Title/Artist\n",
    "list_merge = list_2003.merge(list_2020, how='outer', on=('Album', 'Artist'), suffixes=('_2003','_2020'))\n",
    "\n",
    "#Keeping/Renaming Neccesary Variables for this analysis\n",
    "list_merge = list_merge[['Album', 'Artist', 'Rank_2003', 'Rank_2020']]\n",
    "\n",
    "#Determining the Difference Between Ranks\n",
    "list_merge['Rank_diff'] = list_merge['Rank_2003'] - list_merge['Rank_2020']"
   ]
  },
  {
   "cell_type": "code",
   "execution_count": 10,
   "metadata": {},
   "outputs": [],
   "source": [
    "#I also noticed very minor differences in some album titles/arists i.e \"White Album\" vs \"The White Album\".\n",
    "#These titles need to be cleaned before they can be compared\n",
    "#I will import in excel and fix these manually and re-import once it's done.\n",
    "list_2003.to_excel('list_2003.xlsx')\n",
    "list_2020.to_excel('list_2020.xlsx')\n",
    "list_merge.to_excel('list_merge.xlsx')"
   ]
  },
  {
   "cell_type": "code",
   "execution_count": 11,
   "metadata": {},
   "outputs": [],
   "source": [
    "#Uplading Fixed Data Frames\n",
    "list_2003_fixed = pd.read_excel('list_2003_fixed.xlsx')\n",
    "list_2020_fixed = pd.read_excel('list_2020_fixed.xlsx')"
   ]
  },
  {
   "cell_type": "code",
   "execution_count": 12,
   "metadata": {},
   "outputs": [],
   "source": [
    "list_merge_fixed = list_2003_fixed.merge(list_2020_fixed, how='outer', on=('Album', 'Artist'), suffixes=('_2003','_2020'))\n",
    "\n",
    "#Keeping/Renaming Neccesary Variables for this analysis\n",
    "list_merge_fixed = list_merge_fixed[['Album', 'Artist', 'Rank_2003', 'Rank_2020']]\n",
    "\n",
    "#Determining the Difference Between Ranks\n",
    "list_merge_fixed['Rank_diff'] = list_merge_fixed['Rank_2003'] - list_merge_fixed['Rank_2020']"
   ]
  },
  {
   "cell_type": "code",
   "execution_count": 13,
   "metadata": {},
   "outputs": [
    {
     "data": {
      "text/html": [
       "<div>\n",
       "<style scoped>\n",
       "    .dataframe tbody tr th:only-of-type {\n",
       "        vertical-align: middle;\n",
       "    }\n",
       "\n",
       "    .dataframe tbody tr th {\n",
       "        vertical-align: top;\n",
       "    }\n",
       "\n",
       "    .dataframe thead th {\n",
       "        text-align: right;\n",
       "    }\n",
       "</style>\n",
       "<table border=\"1\" class=\"dataframe\">\n",
       "  <thead>\n",
       "    <tr style=\"text-align: right;\">\n",
       "      <th></th>\n",
       "      <th>Album</th>\n",
       "      <th>Artist</th>\n",
       "      <th>Rank_2003</th>\n",
       "      <th>Rank_2020</th>\n",
       "      <th>Rank_diff</th>\n",
       "    </tr>\n",
       "  </thead>\n",
       "  <tbody>\n",
       "    <tr>\n",
       "      <th>19</th>\n",
       "      <td>Voodoo</td>\n",
       "      <td>D'Angelo</td>\n",
       "      <td>481.0</td>\n",
       "      <td>28.0</td>\n",
       "      <td>453.0</td>\n",
       "    </tr>\n",
       "  </tbody>\n",
       "</table>\n",
       "</div>"
      ],
      "text/plain": [
       "     Album    Artist  Rank_2003  Rank_2020  Rank_diff\n",
       "19  Voodoo  D'Angelo      481.0       28.0      453.0"
      ]
     },
     "execution_count": 13,
     "metadata": {},
     "output_type": "execute_result"
    }
   ],
   "source": [
    "#Which album was the biggest riser?\n",
    "list_merge_fixed.loc[list_merge_fixed['Rank_diff'] == list_merge_fixed['Rank_diff'].max()]"
   ]
  },
  {
   "cell_type": "code",
   "execution_count": 14,
   "metadata": {},
   "outputs": [
    {
     "data": {
      "text/html": [
       "<div>\n",
       "<style scoped>\n",
       "    .dataframe tbody tr th:only-of-type {\n",
       "        vertical-align: middle;\n",
       "    }\n",
       "\n",
       "    .dataframe tbody tr th {\n",
       "        vertical-align: top;\n",
       "    }\n",
       "\n",
       "    .dataframe thead th {\n",
       "        text-align: right;\n",
       "    }\n",
       "</style>\n",
       "<table border=\"1\" class=\"dataframe\">\n",
       "  <thead>\n",
       "    <tr style=\"text-align: right;\">\n",
       "      <th></th>\n",
       "      <th>Album</th>\n",
       "      <th>Artist</th>\n",
       "      <th>Rank_2003</th>\n",
       "      <th>Rank_2020</th>\n",
       "      <th>Rank_diff</th>\n",
       "    </tr>\n",
       "  </thead>\n",
       "  <tbody>\n",
       "    <tr>\n",
       "      <th>462</th>\n",
       "      <td>The Anthology</td>\n",
       "      <td>Muddy Waters</td>\n",
       "      <td>38.0</td>\n",
       "      <td>483.0</td>\n",
       "      <td>-445.0</td>\n",
       "    </tr>\n",
       "  </tbody>\n",
       "</table>\n",
       "</div>"
      ],
      "text/plain": [
       "             Album        Artist  Rank_2003  Rank_2020  Rank_diff\n",
       "462  The Anthology  Muddy Waters       38.0      483.0     -445.0"
      ]
     },
     "execution_count": 14,
     "metadata": {},
     "output_type": "execute_result"
    }
   ],
   "source": [
    "#Which album was the biggest faller?\n",
    "list_merge_fixed.loc[list_merge_fixed['Rank_diff'] == list_merge_fixed['Rank_diff'].min()]"
   ]
  },
  {
   "cell_type": "code",
   "execution_count": 15,
   "metadata": {},
   "outputs": [
    {
     "data": {
      "text/html": [
       "<div>\n",
       "<style scoped>\n",
       "    .dataframe tbody tr th:only-of-type {\n",
       "        vertical-align: middle;\n",
       "    }\n",
       "\n",
       "    .dataframe tbody tr th {\n",
       "        vertical-align: top;\n",
       "    }\n",
       "\n",
       "    .dataframe thead th {\n",
       "        text-align: right;\n",
       "    }\n",
       "</style>\n",
       "<table border=\"1\" class=\"dataframe\">\n",
       "  <thead>\n",
       "    <tr style=\"text-align: right;\">\n",
       "      <th></th>\n",
       "      <th>Album</th>\n",
       "      <th>Artist</th>\n",
       "      <th>Rank_2003</th>\n",
       "      <th>Rank_2020</th>\n",
       "      <th>Rank_diff</th>\n",
       "    </tr>\n",
       "  </thead>\n",
       "  <tbody>\n",
       "    <tr>\n",
       "      <th>670</th>\n",
       "      <td>To Pimp a Butterfly</td>\n",
       "      <td>Kendrick Lamar</td>\n",
       "      <td>NaN</td>\n",
       "      <td>19.0</td>\n",
       "      <td>NaN</td>\n",
       "    </tr>\n",
       "  </tbody>\n",
       "</table>\n",
       "</div>"
      ],
      "text/plain": [
       "                   Album          Artist  Rank_2003  Rank_2020  Rank_diff\n",
       "670  To Pimp a Butterfly  Kendrick Lamar        NaN       19.0        NaN"
      ]
     },
     "execution_count": 15,
     "metadata": {},
     "output_type": "execute_result"
    }
   ],
   "source": [
    "#Which album that wasn't on the 2003 list made the highest debut on the 2020 list? (Highest Debut)\n",
    "null_2003 = list_merge_fixed.loc[list_merge_fixed['Rank_2003'].isnull()]\n",
    "null_2003.loc[null_2003['Rank_2020']==null_2003['Rank_2020'].min()]"
   ]
  },
  {
   "cell_type": "code",
   "execution_count": 16,
   "metadata": {},
   "outputs": [
    {
     "data": {
      "text/html": [
       "<div>\n",
       "<style scoped>\n",
       "    .dataframe tbody tr th:only-of-type {\n",
       "        vertical-align: middle;\n",
       "    }\n",
       "\n",
       "    .dataframe tbody tr th {\n",
       "        vertical-align: top;\n",
       "    }\n",
       "\n",
       "    .dataframe thead th {\n",
       "        text-align: right;\n",
       "    }\n",
       "</style>\n",
       "<table border=\"1\" class=\"dataframe\">\n",
       "  <thead>\n",
       "    <tr style=\"text-align: right;\">\n",
       "      <th></th>\n",
       "      <th>Album</th>\n",
       "      <th>Artist</th>\n",
       "      <th>Rank_2003</th>\n",
       "      <th>Rank_2020</th>\n",
       "      <th>Rank_diff</th>\n",
       "    </tr>\n",
       "  </thead>\n",
       "  <tbody>\n",
       "    <tr>\n",
       "      <th>478</th>\n",
       "      <td>The Complete Recordings</td>\n",
       "      <td>Robert Johnson</td>\n",
       "      <td>22.0</td>\n",
       "      <td>NaN</td>\n",
       "      <td>NaN</td>\n",
       "    </tr>\n",
       "  </tbody>\n",
       "</table>\n",
       "</div>"
      ],
      "text/plain": [
       "                       Album          Artist  Rank_2003  Rank_2020  Rank_diff\n",
       "478  The Complete Recordings  Robert Johnson       22.0        NaN        NaN"
      ]
     },
     "execution_count": 16,
     "metadata": {},
     "output_type": "execute_result"
    }
   ],
   "source": [
    "#Which album was the highest ranked in 2003 that did not make the 2020 list? (Worst Dropout)\n",
    "null_2020 = list_merge_fixed.loc[list_merge_fixed['Rank_2020'].isnull()]\n",
    "null_2020.loc[null_2020['Rank_2003']==null_2020['Rank_2003'].min()]"
   ]
  },
  {
   "cell_type": "markdown",
   "metadata": {},
   "source": [
    "The Biggest Riser: \"Voodoo\" by D'Angelo (481 -> 28)"
   ]
  },
  {
   "cell_type": "markdown",
   "metadata": {},
   "source": [
    "Biggest Faller: \"The Anthology\" by Muddy Waters (38 -> 483)"
   ]
  },
  {
   "cell_type": "markdown",
   "metadata": {},
   "source": [
    "Highest Debut: \"To Pimp a Butterfly\" by Kendrick Lamar (Debuted at 19)"
   ]
  },
  {
   "cell_type": "markdown",
   "metadata": {},
   "source": [
    "Worst Dropout: \"The Complete Recordings\" by Robert Johnson (Ranked 22 in 2003, didn't make the 2020 list)"
   ]
  }
 ],
 "metadata": {
  "kernelspec": {
   "display_name": "Python 3",
   "language": "python",
   "name": "python3"
  },
  "language_info": {
   "codemirror_mode": {
    "name": "ipython",
    "version": 3
   },
   "file_extension": ".py",
   "mimetype": "text/x-python",
   "name": "python",
   "nbconvert_exporter": "python",
   "pygments_lexer": "ipython3",
   "version": "3.8.3"
  }
 },
 "nbformat": 4,
 "nbformat_minor": 4
}
